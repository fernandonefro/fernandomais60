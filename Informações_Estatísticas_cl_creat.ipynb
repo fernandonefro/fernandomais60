{
  "nbformat": 4,
  "nbformat_minor": 0,
  "metadata": {
    "colab": {
      "name": "Informações Estatísticas.ipynb",
      "provenance": [],
      "collapsed_sections": [],
      "include_colab_link": true
    },
    "kernelspec": {
      "name": "python3",
      "display_name": "Python 3"
    }
  },
  "cells": [
    {
      "cell_type": "markdown",
      "metadata": {
        "id": "view-in-github",
        "colab_type": "text"
      },
      "source": [
        "<a href=\"https://colab.research.google.com/github/fernandonefro/fernandomais60/blob/master/Informa%C3%A7%C3%B5es_Estat%C3%ADsticas_cl_creat.ipynb\" target=\"_parent\"><img src=\"https://colab.research.google.com/assets/colab-badge.svg\" alt=\"Open In Colab\"/></a>"
      ]
    },
    {
      "cell_type": "markdown",
      "metadata": {
        "id": "vvplGyW2N3rX"
      },
      "source": [
        "<img alt=\"Colaboratory logo\" width=\"15%\" src=\"https://raw.githubusercontent.com/carlosfab/escola-data-science/master/img/novo_logo_bg_claro.png\">\n",
        "\n",
        "#### **Data Science na Prática 2.0**\n",
        "*by [sigmoidal.ai](https://sigmoidal.ai)*\n",
        "\n",
        "---\n",
        "\n",
        "# Informações Estatísticas com Pandas\n",
        "\n",
        "Como cientista de dados, você vai ter que mergulhar cada vez mais no campo da Estatística.\n",
        "\n",
        "Por trás das nossas análises e modelos de *machine learning*, estão pilares baseados na teoria da matemática e estatística. Você não precisa conhecer todos, porém é obrigatório dominar os conceitos dos principais.\n",
        "\n",
        "A estatística revela muitas coisas imediatamente, validando ou descartando hipóteses logo na fase inicial de um projeto de *Data Science*.\n",
        "\n",
        "<center><img src=\"http://maisbikecompartilhada.com.br/img/logo_bike.png\"></center>\n",
        "\n",
        "Para conhecer algumas das principais funções do Pandas, vou utilizar o *dataset* do projeto **[+BIKE](http://maisbikecompartilhada.com.br)**, que distribui bicicletas em pontos estratégicos de Brasília-DF, oferecendo uma solução de transporte que contribui com a mobilidade das pessoas na capital.\n",
        "\n",
        "Caso deseje conhecer a base de dados original, basta acessar [este link](https://www.kaggle.com/joseguilhermelopes/bike-sharing-system-in-brasilia-brazil/downloads/bike-sharing-system-in-brasilia-brazil.zip/1#df_rides.csv)."
      ]
    },
    {
      "cell_type": "code",
      "metadata": {
        "id": "OakiV1vt6Ec1"
      },
      "source": [
        "# importar os pacotes necessários\n",
        "import pandas as pd\n",
        "\n",
        "# importar o dataset\n",
        "#df = pd.read_csv(\"http://dl.dropboxusercontent.com/s/yyfeoxqw61o3iel/df_rides.csv\")\n",
        "df = pd.read_excel(\"https://github.com/fernandonefro/geriatria/blob/main/ClCr%20de%20toda%20carteira.xlsx?raw=true\")\n"
      ],
      "execution_count": 8,
      "outputs": []
    },
    {
      "cell_type": "code",
      "metadata": {
        "id": "w7RRdNxc6H9e",
        "colab": {
          "base_uri": "https://localhost:8080/",
          "height": 555
        },
        "outputId": "343e5109-fd29-4221-d9fe-285d027bf345"
      },
      "source": [
        "# ver as 5 primeiras entradas\n",
        "df.head()"
      ],
      "execution_count": 9,
      "outputs": [
        {
          "output_type": "execute_result",
          "data": {
            "text/html": [
              "<div>\n",
              "<style scoped>\n",
              "    .dataframe tbody tr th:only-of-type {\n",
              "        vertical-align: middle;\n",
              "    }\n",
              "\n",
              "    .dataframe tbody tr th {\n",
              "        vertical-align: top;\n",
              "    }\n",
              "\n",
              "    .dataframe thead th {\n",
              "        text-align: right;\n",
              "    }\n",
              "</style>\n",
              "<table border=\"1\" class=\"dataframe\">\n",
              "  <thead>\n",
              "    <tr style=\"text-align: right;\">\n",
              "      <th></th>\n",
              "      <th>Empresa</th>\n",
              "      <th>Identificador</th>\n",
              "      <th>Nome</th>\n",
              "      <th>Cpf</th>\n",
              "      <th>DataDeNascimento</th>\n",
              "      <th>Idade</th>\n",
              "      <th>Sexo</th>\n",
              "      <th>Celula</th>\n",
              "      <th>MedicoDeReferencia</th>\n",
              "      <th>EnfermeiroDeReferencia</th>\n",
              "      <th>UnidadePreferencial</th>\n",
              "      <th>DataEHoraDoCadastro</th>\n",
              "      <th>ResponsavelPeloCadastro</th>\n",
              "      <th>Operadora</th>\n",
              "      <th>NumeroDaCarteira</th>\n",
              "      <th>Programa</th>\n",
              "      <th>InicioNoPrograma</th>\n",
              "      <th>DataEHoraDoRegistroNoPrograma</th>\n",
              "      <th>NumeroDeDiasNoPrograma</th>\n",
              "      <th>ClassificacaoDoPrograma</th>\n",
              "      <th>StatusNoPrograma</th>\n",
              "      <th>SaidaDoPrograma</th>\n",
              "      <th>MotivoDeSaida</th>\n",
              "      <th>DataDoIvcf</th>\n",
              "      <th>Ivcf</th>\n",
              "      <th>DataDaGlicoHemoglobina</th>\n",
              "      <th>GlicoHemoglobina</th>\n",
              "      <th>DataDaCreatinina</th>\n",
              "      <th>Creatinina</th>\n",
              "      <th>Clearence de Creatinina em mL/min/1,73m²</th>\n",
              "      <th>Calculo</th>\n",
              "      <th>Mínimo</th>\n",
              "      <th>Máximo</th>\n",
              "      <th>Diabetes (0 - Não, 1 - Sim)</th>\n",
              "      <th>DoencaRenal (0 - Não, 1 - Sim)</th>\n",
              "    </tr>\n",
              "  </thead>\n",
              "  <tbody>\n",
              "    <tr>\n",
              "      <th>0</th>\n",
              "      <td>Mais 60 Saúde</td>\n",
              "      <td>12126</td>\n",
              "      <td>CLEUZA MARIA MAGALHAES LOPES</td>\n",
              "      <td>5.142565e+10</td>\n",
              "      <td>1948-01-23</td>\n",
              "      <td>72</td>\n",
              "      <td>F</td>\n",
              "      <td>B1</td>\n",
              "      <td>Dra. Camila Rabelo Monteiro De Andrade</td>\n",
              "      <td>Natália Santos</td>\n",
              "      <td>Barro Preto</td>\n",
              "      <td>2020-02-05 17:19:13.4491186 -03:00</td>\n",
              "      <td>Beatriz Zacarias Ribeiro</td>\n",
              "      <td>UNIMED BH</td>\n",
              "      <td>00060500158653016</td>\n",
              "      <td>PROGRAMA CUIDADO POR INTEIRO</td>\n",
              "      <td>2020-09-21</td>\n",
              "      <td>2020-09-22 11:17:03.8983926 -03:00</td>\n",
              "      <td>64</td>\n",
              "      <td>Entrada</td>\n",
              "      <td>ATIVO</td>\n",
              "      <td>NaN</td>\n",
              "      <td>NaN</td>\n",
              "      <td>2020-09-21</td>\n",
              "      <td>13.0</td>\n",
              "      <td>NaN</td>\n",
              "      <td>NaN</td>\n",
              "      <td>2020-09-30</td>\n",
              "      <td>25,60</td>\n",
              "      <td>1.115512</td>\n",
              "      <td>86.559110</td>\n",
              "      <td>0.306003</td>\n",
              "      <td>0.012887</td>\n",
              "      <td>0</td>\n",
              "      <td>0</td>\n",
              "    </tr>\n",
              "    <tr>\n",
              "      <th>1</th>\n",
              "      <td>Mais 60 Saúde</td>\n",
              "      <td>5801</td>\n",
              "      <td>HELIO RAMOS DE OLIVEIRA</td>\n",
              "      <td>6.496850e+09</td>\n",
              "      <td>1931-03-26</td>\n",
              "      <td>89</td>\n",
              "      <td>M</td>\n",
              "      <td>SE1</td>\n",
              "      <td>Dra. Ana Luiza Murta E Di Flora</td>\n",
              "      <td>Alexandra de Souza Brito Reis</td>\n",
              "      <td>Barro Preto</td>\n",
              "      <td>2019-07-15 08:52:53.7476690 -03:00</td>\n",
              "      <td>LifeCode</td>\n",
              "      <td>UNIMED BH</td>\n",
              "      <td>00066699628665005</td>\n",
              "      <td>PROGRAMA CUIDADO POR INTEIRO</td>\n",
              "      <td>2018-11-07</td>\n",
              "      <td>2020-05-29 19:13:13.0358452 -03:00</td>\n",
              "      <td>748</td>\n",
              "      <td>Manutenção</td>\n",
              "      <td>CANCELADO</td>\n",
              "      <td>2020-05-29</td>\n",
              "      <td>encaminhado_para_atencao_domiciliar</td>\n",
              "      <td>2019-09-12</td>\n",
              "      <td>20.0</td>\n",
              "      <td>2019-06-01</td>\n",
              "      <td>5,90</td>\n",
              "      <td>2019-06-01</td>\n",
              "      <td>12,77</td>\n",
              "      <td>3.054897</td>\n",
              "      <td>75.457468</td>\n",
              "      <td>0.336162</td>\n",
              "      <td>0.040485</td>\n",
              "      <td>0</td>\n",
              "      <td>1</td>\n",
              "    </tr>\n",
              "    <tr>\n",
              "      <th>2</th>\n",
              "      <td>Mais 60 Saúde</td>\n",
              "      <td>8508</td>\n",
              "      <td>SUELY MACHADO DE ASSUNCAO PIRES</td>\n",
              "      <td>7.307883e+10</td>\n",
              "      <td>1956-11-27</td>\n",
              "      <td>63</td>\n",
              "      <td>F</td>\n",
              "      <td>C2</td>\n",
              "      <td>Dr. Fernando Cesar Menezes Assunção</td>\n",
              "      <td>Juliana da Silva Cardoso Dias</td>\n",
              "      <td>Barro Preto</td>\n",
              "      <td>2019-04-24 11:43:38.3954384 -03:00</td>\n",
              "      <td>LifeCode</td>\n",
              "      <td>UNIMED BH</td>\n",
              "      <td>00065538000023012</td>\n",
              "      <td>PROGRAMA CUIDADO POR INTEIRO</td>\n",
              "      <td>2019-05-29</td>\n",
              "      <td>2020-08-25 11:42:56.9827611 -03:00</td>\n",
              "      <td>545</td>\n",
              "      <td>Manutenção</td>\n",
              "      <td>CANCELADO</td>\n",
              "      <td>2020-08-21</td>\n",
              "      <td>obito</td>\n",
              "      <td>2019-05-29</td>\n",
              "      <td>12.0</td>\n",
              "      <td>2020-03-26</td>\n",
              "      <td>5,60</td>\n",
              "      <td>2020-03-26</td>\n",
              "      <td>10,63</td>\n",
              "      <td>3.438859</td>\n",
              "      <td>92.208200</td>\n",
              "      <td>0.408609</td>\n",
              "      <td>0.037295</td>\n",
              "      <td>1</td>\n",
              "      <td>1</td>\n",
              "    </tr>\n",
              "    <tr>\n",
              "      <th>3</th>\n",
              "      <td>Mais 60 Saúde</td>\n",
              "      <td>10711</td>\n",
              "      <td>CORDULINO TORRES COSTA</td>\n",
              "      <td>1.298488e+10</td>\n",
              "      <td>1944-06-30</td>\n",
              "      <td>76</td>\n",
              "      <td>M</td>\n",
              "      <td>B2</td>\n",
              "      <td>Dra. Daniela Mendes Oliveira</td>\n",
              "      <td>Marta Rejane Moreira Rios</td>\n",
              "      <td>Barro Preto</td>\n",
              "      <td>2019-08-01 09:47:56.6624812 -03:00</td>\n",
              "      <td>Beatriz Zacarias Ribeiro</td>\n",
              "      <td>UNIMED BH</td>\n",
              "      <td>00060500704394005</td>\n",
              "      <td>PROGRAMA CUIDADO POR INTEIRO</td>\n",
              "      <td>2019-08-02</td>\n",
              "      <td>2019-08-02 17:07:32.2560328 +00:00</td>\n",
              "      <td>480</td>\n",
              "      <td>Manutenção</td>\n",
              "      <td>ATIVO</td>\n",
              "      <td>NaN</td>\n",
              "      <td>NaN</td>\n",
              "      <td>2020-02-14</td>\n",
              "      <td>12.0</td>\n",
              "      <td>2019-09-02</td>\n",
              "      <td>4,50</td>\n",
              "      <td>2019-09-02</td>\n",
              "      <td>9,65</td>\n",
              "      <td>4.696212</td>\n",
              "      <td>82.672677</td>\n",
              "      <td>0.377184</td>\n",
              "      <td>0.056805</td>\n",
              "      <td>0</td>\n",
              "      <td>1</td>\n",
              "    </tr>\n",
              "    <tr>\n",
              "      <th>4</th>\n",
              "      <td>Mais 60 Saúde</td>\n",
              "      <td>8566</td>\n",
              "      <td>TEREZINHA MARIA TORRES SILVA</td>\n",
              "      <td>1.623227e+10</td>\n",
              "      <td>1949-04-20</td>\n",
              "      <td>71</td>\n",
              "      <td>F</td>\n",
              "      <td>A2</td>\n",
              "      <td>Dra. Juliana Paula Martins Gomes</td>\n",
              "      <td>Luiza Campi Ricardo Mattar</td>\n",
              "      <td>Barro Preto</td>\n",
              "      <td>2019-05-08 12:58:03.2449111 -03:00</td>\n",
              "      <td>LifeCode</td>\n",
              "      <td>UNIMED BH</td>\n",
              "      <td>00060501411279006</td>\n",
              "      <td>PROGRAMA CUIDADO POR INTEIRO</td>\n",
              "      <td>2019-01-24</td>\n",
              "      <td>2019-04-10 06:42:27.5538600 +00:00</td>\n",
              "      <td>670</td>\n",
              "      <td>Manutenção</td>\n",
              "      <td>ATIVO</td>\n",
              "      <td>NaN</td>\n",
              "      <td>NaN</td>\n",
              "      <td>2020-09-24</td>\n",
              "      <td>15.0</td>\n",
              "      <td>2019-01-05</td>\n",
              "      <td>1,27</td>\n",
              "      <td>2019-01-05</td>\n",
              "      <td>8,70</td>\n",
              "      <td>4.141983</td>\n",
              "      <td>87.169295</td>\n",
              "      <td>0.436451</td>\n",
              "      <td>0.047517</td>\n",
              "      <td>1</td>\n",
              "      <td>0</td>\n",
              "    </tr>\n",
              "  </tbody>\n",
              "</table>\n",
              "</div>"
            ],
            "text/plain": [
              "         Empresa  ...  DoencaRenal (0 - Não, 1 - Sim)\n",
              "0  Mais 60 Saúde  ...                               0\n",
              "1  Mais 60 Saúde  ...                               1\n",
              "2  Mais 60 Saúde  ...                               1\n",
              "3  Mais 60 Saúde  ...                               1\n",
              "4  Mais 60 Saúde  ...                               0\n",
              "\n",
              "[5 rows x 35 columns]"
            ]
          },
          "metadata": {
            "tags": []
          },
          "execution_count": 9
        }
      ]
    },
    {
      "cell_type": "markdown",
      "metadata": {
        "id": "74FaQTkf6MLe"
      },
      "source": [
        "## Resumo das informações estatísticas\n",
        "\n",
        "Uma das maneiras mais simples de se iniciar uma análise exploratória das variáveis numéricas é utilizando o método `describe()`.\n",
        "\n",
        "Imediatamente você obtém um resumo contendo algumas das principais informações estatísticas relevantes:\n",
        "\n",
        "* **count** - quantidade de entradas válidas\n",
        "* **mean** - média dos valores\n",
        "* **std** - desvio padrão\n",
        "* **min** - menor valor da coluna\n",
        "* **25%** - percentil 25\n",
        "* **50%** - percentil 50 (e mediana)\n",
        "* **75%** - percentil 75\n",
        "* **max** - maior valor da coluna\n",
        "\n",
        "É possível identificar de cara colunas com valores ausentes e possíveis *outliers* (por exemplo, olhando o valor da mediana e comparando com valores máximos e mínimos)"
      ]
    },
    {
      "cell_type": "code",
      "metadata": {
        "id": "_vgNRUd-EaGg",
        "colab": {
          "base_uri": "https://localhost:8080/",
          "height": 354
        },
        "outputId": "f8bc88b3-d855-4976-92a3-da649b44006b"
      },
      "source": [
        "df.describe()"
      ],
      "execution_count": 10,
      "outputs": [
        {
          "output_type": "execute_result",
          "data": {
            "text/html": [
              "<div>\n",
              "<style scoped>\n",
              "    .dataframe tbody tr th:only-of-type {\n",
              "        vertical-align: middle;\n",
              "    }\n",
              "\n",
              "    .dataframe tbody tr th {\n",
              "        vertical-align: top;\n",
              "    }\n",
              "\n",
              "    .dataframe thead th {\n",
              "        text-align: right;\n",
              "    }\n",
              "</style>\n",
              "<table border=\"1\" class=\"dataframe\">\n",
              "  <thead>\n",
              "    <tr style=\"text-align: right;\">\n",
              "      <th></th>\n",
              "      <th>Identificador</th>\n",
              "      <th>Cpf</th>\n",
              "      <th>Idade</th>\n",
              "      <th>NumeroDeDiasNoPrograma</th>\n",
              "      <th>Ivcf</th>\n",
              "      <th>Clearence de Creatinina em mL/min/1,73m²</th>\n",
              "      <th>Calculo</th>\n",
              "      <th>Mínimo</th>\n",
              "      <th>Máximo</th>\n",
              "      <th>Diabetes (0 - Não, 1 - Sim)</th>\n",
              "      <th>DoencaRenal (0 - Não, 1 - Sim)</th>\n",
              "    </tr>\n",
              "  </thead>\n",
              "  <tbody>\n",
              "    <tr>\n",
              "      <th>count</th>\n",
              "      <td>4972.000000</td>\n",
              "      <td>4.500000e+03</td>\n",
              "      <td>4972.000000</td>\n",
              "      <td>4972.000000</td>\n",
              "      <td>4793.000000</td>\n",
              "      <td>2392.000000</td>\n",
              "      <td>4972.000000</td>\n",
              "      <td>2392.000000</td>\n",
              "      <td>2392.000000</td>\n",
              "      <td>4972.000000</td>\n",
              "      <td>4972.000000</td>\n",
              "    </tr>\n",
              "    <tr>\n",
              "      <th>mean</th>\n",
              "      <td>10217.209976</td>\n",
              "      <td>3.080070e+10</td>\n",
              "      <td>79.512470</td>\n",
              "      <td>486.020515</td>\n",
              "      <td>17.701231</td>\n",
              "      <td>66.197983</td>\n",
              "      <td>81.888569</td>\n",
              "      <td>0.925277</td>\n",
              "      <td>0.807530</td>\n",
              "      <td>0.258246</td>\n",
              "      <td>0.085881</td>\n",
              "    </tr>\n",
              "    <tr>\n",
              "      <th>std</th>\n",
              "      <td>5838.641729</td>\n",
              "      <td>2.950743e+10</td>\n",
              "      <td>9.279649</td>\n",
              "      <td>277.003107</td>\n",
              "      <td>6.657369</td>\n",
              "      <td>24.482777</td>\n",
              "      <td>5.485337</td>\n",
              "      <td>0.108657</td>\n",
              "      <td>0.283907</td>\n",
              "      <td>0.437714</td>\n",
              "      <td>0.280216</td>\n",
              "    </tr>\n",
              "    <tr>\n",
              "      <th>min</th>\n",
              "      <td>4587.000000</td>\n",
              "      <td>2.003600e+06</td>\n",
              "      <td>19.000000</td>\n",
              "      <td>0.000000</td>\n",
              "      <td>0.000000</td>\n",
              "      <td>1.115512</td>\n",
              "      <td>66.494956</td>\n",
              "      <td>0.306003</td>\n",
              "      <td>0.012887</td>\n",
              "      <td>0.000000</td>\n",
              "      <td>0.000000</td>\n",
              "    </tr>\n",
              "    <tr>\n",
              "      <th>25%</th>\n",
              "      <td>5985.750000</td>\n",
              "      <td>5.551574e+09</td>\n",
              "      <td>73.000000</td>\n",
              "      <td>362.000000</td>\n",
              "      <td>13.000000</td>\n",
              "      <td>51.030061</td>\n",
              "      <td>77.902521</td>\n",
              "      <td>0.876592</td>\n",
              "      <td>0.641947</td>\n",
              "      <td>0.000000</td>\n",
              "      <td>0.000000</td>\n",
              "    </tr>\n",
              "    <tr>\n",
              "      <th>50%</th>\n",
              "      <td>8578.500000</td>\n",
              "      <td>2.163971e+10</td>\n",
              "      <td>80.000000</td>\n",
              "      <td>515.000000</td>\n",
              "      <td>16.000000</td>\n",
              "      <td>64.419682</td>\n",
              "      <td>81.256108</td>\n",
              "      <td>0.934517</td>\n",
              "      <td>0.790781</td>\n",
              "      <td>0.000000</td>\n",
              "      <td>0.000000</td>\n",
              "    </tr>\n",
              "    <tr>\n",
              "      <th>75%</th>\n",
              "      <td>11481.250000</td>\n",
              "      <td>5.090683e+10</td>\n",
              "      <td>86.000000</td>\n",
              "      <td>561.000000</td>\n",
              "      <td>22.000000</td>\n",
              "      <td>80.140380</td>\n",
              "      <td>85.627991</td>\n",
              "      <td>0.995344</td>\n",
              "      <td>0.982997</td>\n",
              "      <td>1.000000</td>\n",
              "      <td>0.000000</td>\n",
              "    </tr>\n",
              "    <tr>\n",
              "      <th>max</th>\n",
              "      <td>25495.000000</td>\n",
              "      <td>9.977906e+10</td>\n",
              "      <td>107.000000</td>\n",
              "      <td>1716.000000</td>\n",
              "      <td>38.000000</td>\n",
              "      <td>214.650577</td>\n",
              "      <td>125.603752</td>\n",
              "      <td>1.273260</td>\n",
              "      <td>2.394228</td>\n",
              "      <td>1.000000</td>\n",
              "      <td>1.000000</td>\n",
              "    </tr>\n",
              "  </tbody>\n",
              "</table>\n",
              "</div>"
            ],
            "text/plain": [
              "       Identificador  ...  DoencaRenal (0 - Não, 1 - Sim)\n",
              "count    4972.000000  ...                     4972.000000\n",
              "mean    10217.209976  ...                        0.085881\n",
              "std      5838.641729  ...                        0.280216\n",
              "min      4587.000000  ...                        0.000000\n",
              "25%      5985.750000  ...                        0.000000\n",
              "50%      8578.500000  ...                        0.000000\n",
              "75%     11481.250000  ...                        0.000000\n",
              "max     25495.000000  ...                        1.000000\n",
              "\n",
              "[8 rows x 11 columns]"
            ]
          },
          "metadata": {
            "tags": []
          },
          "execution_count": 10
        }
      ]
    },
    {
      "cell_type": "markdown",
      "metadata": {
        "id": "DlbwG1eBEbqc"
      },
      "source": [
        "## Média\n",
        "\n",
        "Se quisermos obter a média de alguma variável numéricas, basta executar o método `mean()` na *Series*. Ou seja, basta selecionar aquele coluna em especial e executar `mean()`."
      ]
    },
    {
      "cell_type": "code",
      "metadata": {
        "id": "Ni2O8xcAS3WG",
        "colab": {
          "base_uri": "https://localhost:8080/"
        },
        "outputId": "d957f154-bbe7-41d0-bfcd-459a139b833e"
      },
      "source": [
        "# ver a média da coluna ride_duration\n",
        "df.Idade.mean()"
      ],
      "execution_count": 12,
      "outputs": [
        {
          "output_type": "execute_result",
          "data": {
            "text/plain": [
              "79.5124698310539"
            ]
          },
          "metadata": {
            "tags": []
          },
          "execution_count": 12
        }
      ]
    },
    {
      "cell_type": "markdown",
      "metadata": {
        "id": "buHHXMruXF1o"
      },
      "source": [
        "## Mediana\n",
        "\n",
        "Mediana é o valor que separa a metade maior e a metade menor de um conjunto de dados. Por exemplo, considere o conjunto `meus_dados = [1,1,2,4,9]`.\n",
        "\n",
        "O valor que \"está no meio\" é o número 2. Não confunda com a média, que é a soma de todos os valores dividido pela sua quantidade."
      ]
    },
    {
      "cell_type": "code",
      "metadata": {
        "id": "uUhrR0dsXxuE",
        "colab": {
          "base_uri": "https://localhost:8080/"
        },
        "outputId": "43f897ef-2bf9-4399-fc18-23a5c414f374"
      },
      "source": [
        "# calcular a mediana\n",
        "pd.Series([1,1,2,4,9]).median()"
      ],
      "execution_count": 13,
      "outputs": [
        {
          "output_type": "execute_result",
          "data": {
            "text/plain": [
              "2.0"
            ]
          },
          "metadata": {
            "tags": []
          },
          "execution_count": 13
        }
      ]
    },
    {
      "cell_type": "markdown",
      "metadata": {
        "id": "h9FWsm5DS-Pa"
      },
      "source": [
        "## Desvio Padrão\n",
        "\n",
        "Desvio padrão é uma medida de dispersão em torno da média populacional de uma variável.\n",
        "\n",
        "$$SD = \\sqrt{\\frac{1}{n}\\sum_{i=1}^{n}(x_i - \\overline{x}) ^ 2}$$\n",
        "\n",
        "Falando simplificadamente, um número alto do desvio padrão indica que os dados estão bem espelhados em relação à sua média. Já um desvio padrão baixo mostra que os valores estão mais agrupados, mais \"juntos\".\n",
        "\n",
        "Por exemplo, na figura abaixo temos um exemplo de valores altos e baixos para o desvio padrão. Em vermelho os dados estão mais próximos à sua média, e em azul estão bem mais espalhados.\n",
        "\n",
        "<center><img src=\"https://upload.wikimedia.org/wikipedia/commons/thumb/f/f9/Comparison_standard_deviations.svg/400px-Comparison_standard_deviations.svg.png\"></center>\n",
        "\n",
        "Para quem não está acostumado com gráficos de distribuições, um exemplo que funciona muito bem é o do tiro ao alvo.\n",
        "\n",
        "Olhe na figura abaixo como os tiros estão localizados em cada uma das situações. Identifique mentalmente quais tem maior ou menor dispersão, ou seja, desvio padrão.\n",
        "\n",
        "<center><img src=\"https://raw.githubusercontent.com/carlosfab/dsnp2/master/img/precisao_exatidao.jpg\" height=\"250px\"></center>\n",
        "\n",
        "O conceito que eu quero que você se atente é o achatamento da curva. Como os valores se \"aglomeram\" em torno da média ou se dispersam em torno dela. Veja também mais essa outra figura abaixo, colocando as distribuições lado a lado.\n",
        "\n",
        "<center><img src=\"https://raw.githubusercontent.com/carlosfab/dsnp2/master/img/precisao_vs_exatidao2.jpg\" height=\"200px\"></center>\n",
        "\n",
        "Para calcular o desvio padrão de qualquer coluna, basta executar o método `std()` para a variável."
      ]
    },
    {
      "cell_type": "code",
      "metadata": {
        "id": "yhxZYdXNTcG4",
        "colab": {
          "base_uri": "https://localhost:8080/"
        },
        "outputId": "f265a27c-1d66-4343-f9b3-64161cd1463f"
      },
      "source": [
        "# calcular o desvio padrão para ride_calculation\n",
        "df.Idade.mean()"
      ],
      "execution_count": 15,
      "outputs": [
        {
          "output_type": "execute_result",
          "data": {
            "text/plain": [
              "79.5124698310539"
            ]
          },
          "metadata": {
            "tags": []
          },
          "execution_count": 15
        }
      ]
    },
    {
      "cell_type": "markdown",
      "metadata": {
        "id": "lhJyNfbYT8qw"
      },
      "source": [
        "## Valores máximos e mínimos\n",
        "\n",
        "Para calcular o valor máximo, basta executar o método `max()`, enquanto para o valor mínimo basta executar `min()`."
      ]
    },
    {
      "cell_type": "code",
      "metadata": {
        "id": "gUyA6i-KYrgU",
        "colab": {
          "base_uri": "https://localhost:8080/"
        },
        "outputId": "3fdd1959-7af8-4c22-8284-6aee3b90a096"
      },
      "source": [
        "# valor máximo\n",
        "df.Idade.max()"
      ],
      "execution_count": 16,
      "outputs": [
        {
          "output_type": "execute_result",
          "data": {
            "text/plain": [
              "107"
            ]
          },
          "metadata": {
            "tags": []
          },
          "execution_count": 16
        }
      ]
    },
    {
      "cell_type": "code",
      "metadata": {
        "id": "3tVzhyThYyAU",
        "colab": {
          "base_uri": "https://localhost:8080/"
        },
        "outputId": "6200ccd2-9696-4b78-9202-b2253b2ce086"
      },
      "source": [
        "# valor mínimo\n",
        "df.Idade.min()"
      ],
      "execution_count": 17,
      "outputs": [
        {
          "output_type": "execute_result",
          "data": {
            "text/plain": [
              "19"
            ]
          },
          "metadata": {
            "tags": []
          },
          "execution_count": 17
        }
      ]
    }
  ]
}